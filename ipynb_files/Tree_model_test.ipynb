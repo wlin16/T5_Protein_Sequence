{
 "cells": [
  {
   "cell_type": "code",
   "execution_count": 3,
   "id": "2b3eff32-d9fc-4b4f-a304-8bde387c934a",
   "metadata": {},
   "outputs": [],
   "source": [
    "import pandas as pd\n",
    "import numpy as np\n",
    "import matplotlib.pyplot as plt\n",
    "import pickle\n",
    "\n",
    "import os\n",
    "\n",
    "import re\n",
    "import random\n",
    "from termcolor import colored\n",
    "# import dataframe_image as dfi\n",
    "# import warnings\n",
    "# import wandb\n",
    "# warnings.filterwarnings('ignore')\n",
    "# warnings.warn('DelftStack')\n",
    "# warnings.warn('Do not show this message')\n",
    "\n",
    "from sklearn.linear_model import SGDClassifier\n",
    "from sklearn.model_selection import cross_val_score\n",
    "from sklearn.model_selection import train_test_split\n",
    "from sklearn.ensemble import RandomForestClassifier\n",
    "from sklearn.metrics import classification_report\n",
    "\n",
    "from xgboost import XGBClassifier\n",
    "from catboost import CatBoostClassifier\n",
    "import lightgbm as lgb\n",
    "\n",
    "from IPython.display import Audio, display\n",
    "def allDone():\n",
    "    display(Audio(url='https://www.mediacollege.com/downloads/sound-effects/beep/beep-10.wav', autoplay=True))\n",
    "\n",
    "embed_path = 'data_test'\n",
    "result_path = 'predicted_results'\n",
    "wt_mt_path = 'data_test/wt_mt'"
   ]
  },
  {
   "cell_type": "code",
   "execution_count": null,
   "id": "92ac7314-42b1-4cd2-a96c-77647a870df3",
   "metadata": {},
   "outputs": [],
   "source": []
  },
  {
   "cell_type": "code",
   "execution_count": 102,
   "id": "43532503-57cb-45fd-babb-66b445f7d3b4",
   "metadata": {},
   "outputs": [],
   "source": [
    "# majority and mean prediction votes\n",
    "def majority_vote(mode1, mode_2, mode_3, mode_test):\n",
    "    pred1 = model1.predict_proba(mode_test)\n",
    "    pred2 = model1.predict_proba(mode_test)\n",
    "    pred3 = model1.predict_proba(mode_test)\n",
    "    \n",
    "    stacked_preds = np.vstack([pred1, pred2, pred3])\n",
    "\n",
    "    # Take mean of all three models # use this for AUC ROC, prec-recall AUC etc.\n",
    "    mean_predictions_proba = stacked_preds.mean(axis=0) # might be axis =1 just make sure that the output shape is n_predictions long\n",
    "\n",
    "    # use this for f1 score, precision, recall, MCC etc.\n",
    "    mean_predictions_binary = (mean_predictions_proba > 0.5).astype(int)\n",
    "\n",
    "    # convert the mean predictions of each model to binary\n",
    "    binarized_predictions = (stacked_preds > 0.5).astype(int)\n",
    "\n",
    "    # Take the average of the binary votes #use this for AUC ROC, prec-recall AUC etc.\n",
    "    majority_vote_proba  = binarized_predictions.mean(axis=0) # might be axis =1 just make sure that the output shape is n_predictions long\n",
    "\n",
    "    # Convert the majority vote to binary # use this for f1 score, precision, recall, MCC etc.\n",
    "    majority_vote_binary  = (majority_vote_proba > 0.5).astype(int)\n",
    "    \n",
    "    return mean_prodictions_binary, majority_vote_binary\n",
    "\n",
    "# print out reports\n",
    "def report_save(y_true, y_pred, name, path, label_names=None, *args, **kv):\n",
    "    result_path = f'../data/{path}/predicted_results'\n",
    "    # print the classification report here\n",
    "    report = classification_report(y_true, y_pred, target_names=label_names)\n",
    "    print(colored(f'\\n\\t\\t\\t\\t *** {name}_report ***:\\n\\n\\n', 'blue', attrs=['bold']), report)\n",
    "\n",
    "    # create report dataframe\n",
    "    report_for_save = classification_report(y_true, y_pred, target_names=label_names, output_dict=True)\n",
    "    report_csv = pd.DataFrame(report_for_save).transpose()\n",
    "\n",
    "    # style.background_gradient or highlight_max\n",
    "    report_styled = report_csv.style.background_gradient(subset=['precision', 'recall', 'f1-score'])\n",
    "    \n",
    "    # Save results\n",
    "    if not os.path.isdir(f'{result_path}'):\n",
    "        os.mkdir(f'{result_path}')\n",
    "\n",
    "    # export dataframe to .png\n",
    "    # dfi.export(report_styled, f'{result_path}/{name}_report.png')\n",
    "\n",
    "    report_csv.to_csv(f'{result_path}/{name}_report_save.csv')\n"
   ]
  },
  {
   "cell_type": "code",
   "execution_count": 98,
   "id": "0a11f2aa-4917-4be7-ab20-dbe4c3404872",
   "metadata": {},
   "outputs": [],
   "source": [
    "def train_test_dataset_imbalance(path, mode):\n",
    "    mode_train = pd.read_csv(f'{path}/{mode}_train.csv')\n",
    "    mode_test = pd.read_csv(f'{path}/{mode}_test.csv')\n",
    "    \n",
    "    X_train = mode_train[['wt_emb','mt_emb']]\n",
    "    y_train = mode_train['label']\n",
    "    X_test = mode_test[['wt_emb','mt_emb']]\n",
    "    y_test = mode_test['label']\n",
    "    \n",
    "    return X_train, y_train, X_test, y_test"
   ]
  },
  {
   "cell_type": "code",
   "execution_count": 67,
   "id": "b7255646-0f27-49cd-be4c-6376fd30dddc",
   "metadata": {},
   "outputs": [],
   "source": [
    "def train_test_dataset_balance(path, mode):\n",
    "    mode_train1 = pd.read_csv(f'{path}/{mode}_train_1.csv')\n",
    "    mode_train2 = pd.read_csv(f'{path}/{mode}_train_2.csv')\n",
    "    mode_train3 = pd.read_csv(f'{path}/{mode}_train_2.csv')\n",
    "    mode_test = pd.read_csv(f'{path}/{mode}_test.csv')\n",
    "    X_train1, X_train2, X_train3 = mode_train1[['wt_emb','mt_emb']], mode_train2[['wt_emb','mt_emb']], mode_train3[['wt_emb','mt_emb']]\n",
    "    y_train1, y_train2, y_train3 = mode_train1['label'], mode_train2['label'], mode_train3['label']\n",
    "    X_test, y_test = mode_test[['wt_emb','mt_emb']], mode_test['label']\n",
    "    \n",
    "    return X_train1, X_train2, X_train3, y_train1, y_train2, y_train3, X_test, y_test\n",
    "    "
   ]
  },
  {
   "cell_type": "code",
   "execution_count": 85,
   "id": "5304f914-c65d-4401-ade1-f86bcee59def",
   "metadata": {
    "tags": []
   },
   "outputs": [],
   "source": [
    "def ML_pred_for_imbalance(X_train, y_train, X_test, y_test, path):\n",
    "    # XGBoost\n",
    "    xgb = XGBClassifier(n_estimators = 300, tree_method='gpu_hist', gpu_id=0)\n",
    "    xgb.fit(X_train, y_train)\n",
    "    y_xgb = xgb.predict(X_test)\n",
    "    report_save(y_test, y_xgb,path, 'XGBoost')\n",
    "    \n",
    "    # Catboost\n",
    "    cbt = CatBoostClassifier(iterations=500, learning_rate=0.09, depth=10)\n",
    "    cbt.fit(X_train, y_train)\n",
    "    y_cbt = cbt.predict(X_test)\n",
    "    report_save(y_test, y_cbt,path, 'CatBoost')\n",
    "    \n",
    "    # LightGBM\n",
    "    d_train=lgb.Dataset(X_train, label=y_train)\n",
    "    params={}\n",
    "    # params['learning_rate']=0.41282313322582176\n",
    "    params['learning_rate']=0.1\n",
    "    params['boosting_type']='gbdt' #GradientBoostingDecisionTree\n",
    "    params['objective']='cross_entropy' #Binary target feature\n",
    "    params['metric']='binary_error' #metric for binary classification\n",
    "    params['max_depth']= 10\n",
    "    params['n_estimators'] = 300\n",
    "    # params['num_leaves'] = 34\n",
    "    # params['reg_lambda'] = 0.9557019573592245\n",
    "    # params['colsample_by_tree'] = 0.8506663985944544\n",
    "    lgb = lgb.train(params,d_train,300)\n",
    "    y_lgb = lgb.predict(X_test)\n",
    "    y_lgb=y_lgb.round(0)\n",
    "    y_lgb = y_lgb.astype(int)\n",
    "    report_save(y_test, y_lgb,path,'LightGBM')\n",
    "    "
   ]
  },
  {
   "cell_type": "code",
   "execution_count": 82,
   "id": "5562d540-bb37-4028-8b1b-264a21fd20e8",
   "metadata": {},
   "outputs": [],
   "source": [
    "def ML_pred_for_balance(X_train1, X_train2, X_train3, y_train1, y_train2, y_train3, X_test, y_test, path):\n",
    "    \n",
    "    # XGBoost\n",
    "    xgb_1 = XGBClassifier(n_estimators = 300, tree_method='gpu_hist', gpu_id=0)\n",
    "    xgb_2 = XGBClassifier()\n",
    "    xgb_3 = XGBClassifier()\n",
    "    xgb_1.fit(X_train1, y_train1)\n",
    "    xgb_2.fit(X_train2, y_train2)\n",
    "    xgb_3.fit(X_train3, y_train3)\n",
    "    xgb_mean_prodictions_binary, xgb_majority_vote_binary = majority_vote(xgb_1,xgb_2,xgb_3, X_test)\n",
    "    report_save(xgb_mean_prodictions_binary, y_test, path,'XGBoost_mean')\n",
    "    report_save(xgb_majority_vote_binary, y_test, path,'XGBoost_majority')\n",
    "\n",
    "    # Catboost\n",
    "    cbt_1 = CatBoostClassifier(iterations=500, learning_rate=0.09, depth=10, n_estimators = 300)\n",
    "    cbt_2 = CatBoostClassifier(iterations=500, learning_rate=0.09, depth=10, n_estimators = 300)\n",
    "    cbt_3 = CatBoostClassifier(iterations=500, learning_rate=0.09, depth=10, n_estimators = 300)\n",
    "\n",
    "    cbt_1.fit(X_train1, y_train1)\n",
    "    cbt_2.fit(X_train2, y_train2)\n",
    "    cbt_3.fit(X_train3, y_train3)\n",
    "    cbt_mean_prodictions_binary, cbt_majority_vote_binary = majority_vote(cbt_1,cbt_2,cbt_3, X_test)\n",
    "    report_save(cbt_mean_prodictions_binary, y_test,path, 'Catboost_mean')\n",
    "    report_save(cbt_majority_vote_binary, y_test,path, 'Catboost_majority')\n",
    "\n",
    "    # LightGBM\n",
    "    params={}\n",
    "    params['learning_rate']=0.1\n",
    "    params['boosting_type']='gbdt' #GradientBoostingDecisionTree\n",
    "    params['objective']='cross_entropy' #Binary target feature\n",
    "    params['metric']='binary_error' #metric for binary classification\n",
    "    params['max_depth']= 10\n",
    "    params['n_estimators'] = 300\n",
    "    params['n_iter'] = 500\n",
    "\n",
    "    lgb_1 = LGBMClassifier(**params)\n",
    "    lgb_2 = LGBMClassifier(**params)\n",
    "    lgb_3 = LGBMClassifier(**params)\n",
    "\n",
    "    lgb_1.fit(X_train1, y_train1)\n",
    "    lgb_2.fit(X_train2, y_train2)\n",
    "    lgb_3.fit(X_train3, y_train3)\n",
    "\n",
    "    lgb_mean_prodictions_binary, lgb_majority_vote_binary = majority_vote(lgb_1,lgb_2,lgb_3, X_test)\n",
    "    report_save(lgb_mean_prodictions_binary, y_test,path, 'LightGBM_mean')\n",
    "    report_save(lgb_majority_vote_binary, y_test,path, 'LightGBM_majority')\n",
    "\n"
   ]
  },
  {
   "cell_type": "markdown",
   "id": "77a5febd-f445-468f-bef8-212ee98a40b9",
   "metadata": {},
   "source": [
    "## Situation_1\n",
    "imbalance + same seq, Train:Test = 3:1"
   ]
  },
  {
   "cell_type": "code",
   "execution_count": 99,
   "id": "c2db1610-c80d-4f5e-bb9c-6726ce6d2bad",
   "metadata": {},
   "outputs": [],
   "source": [
    "X1_train_s1, y1_train_s1, X1_test_s1, y1_test_s1 = train_test_dataset_imbalance('../data/imbalance_same_seq', 'mode_1')\n",
    "X2_train_s1, y2_train_s1, X2_test_s1, y2_test_s1 = train_test_dataset_imbalance('../data/imbalance_same_seq', 'mode_2')"
   ]
  },
  {
   "cell_type": "code",
   "execution_count": null,
   "id": "ee3d3051-65ae-48b1-b028-03e4861aaf47",
   "metadata": {},
   "outputs": [],
   "source": [
    "ML_pred_for_imbalance(X1_train_s1, y1_train_s1, X1_test_s1, y1_test_s1,'imbalance_same_seq')\n",
    "ML_pred_for_imbalance(X2_train_s1, y2_train_s1, X2_test_s1, y2_test_s1,'imbalance_same_seq')"
   ]
  },
  {
   "cell_type": "markdown",
   "id": "012402da-28ba-497a-bd3b-0e6c6907c358",
   "metadata": {},
   "source": [
    "## Situation 2"
   ]
  },
  {
   "cell_type": "code",
   "execution_count": 70,
   "id": "879a8a17-ecf2-48c4-b12e-5b1821f2aa63",
   "metadata": {},
   "outputs": [],
   "source": [
    "X1_train1_s2, X1_train2_s2, X1_train3_s2, y1_train1_s2, y1_train2_s2, y1_train3_s2, X1_test_s2, y1_test_s2 = train_test_dataset_balance('../data/balanced_same_seq', 'mode_1')\n",
    "X2_train1_s2, X2_train2_s2, X2_train3_s2, y2_train1_s2, y2_train2_s2, y2_train3_s2, X2_test_s2, y2_test_s2 = train_test_dataset_balance('../data/balanced_same_seq', 'mode_2')\n"
   ]
  },
  {
   "cell_type": "code",
   "execution_count": null,
   "id": "3badb9c3-6f73-42fb-8ab4-ccccbd127800",
   "metadata": {},
   "outputs": [],
   "source": [
    "ML_pred_for_balance(X1_train1_s2, X1_train2_s2, X1_train3_s2, y1_train1_s2, y1_train2_s2, y1_train3_s2, X1_test_s2, y1_test_s2, 'balanced_same')\n",
    "ML_pred_for_balance(X2_train1_s2, X2_train2_s2, X2_train3_s2, y2_train1_s2, y2_train2_s2, y2_train3_s2, X2_test_s2, y2_test_s2, 'balanced_same')\n"
   ]
  },
  {
   "cell_type": "markdown",
   "id": "5d7d4e75-497b-4069-9f77-1f9883d2b0b2",
   "metadata": {},
   "source": [
    "## Situation 3"
   ]
  },
  {
   "cell_type": "code",
   "execution_count": 103,
   "id": "1a1cc532-7e2e-46d6-9c26-90721c5d1f6b",
   "metadata": {},
   "outputs": [],
   "source": [
    "X1_train_s3, y1_train_s3, X1_test_s3, y1_test_s3 = train_test_dataset_imbalance('../data/imbalance_diff_seq', 'mode_1')\n",
    "X2_train_s3, y2_train_s3, X2_test_s3, y2_test_s3 = train_test_dataset_imbalance('../data/imbalance_diff_seq', 'mode_2')"
   ]
  },
  {
   "cell_type": "code",
   "execution_count": null,
   "id": "f3c9a606-4eca-4877-a647-31ae0aa90fb0",
   "metadata": {},
   "outputs": [],
   "source": [
    "ML_pred_for_imbalance(X1_train_s3, y1_train_s3, X1_test_s3, y1_test_s3,'imbalance_diff_seq')\n",
    "ML_pred_for_imbalance(X2_train_s3, y2_train_s3, X2_test_s3, y2_test_s3,'imbalance_diff_seq')"
   ]
  },
  {
   "cell_type": "markdown",
   "id": "2d957286-150b-414d-b681-9fe5dd56638e",
   "metadata": {},
   "source": [
    "## Situation 4"
   ]
  },
  {
   "cell_type": "code",
   "execution_count": 77,
   "id": "d5860667-546a-4685-a3ef-a0a5fe3483de",
   "metadata": {},
   "outputs": [],
   "source": [
    "X1_train1_s4, X1_train2_s4, X1_train3_s4, y1_train1_s4, y1_train2_s4, y1_train3_s4, X1_test_s4, y1_test_s4 = train_test_dataset_balance('../data/balanced_diff_seq', 'mode_1')\n",
    "X2_train1_s4, X2_train2_s4, X2_train3_s4, y2_train1_s4, y2_train2_s4, y2_train3_s4, X2_test_s4, y2_test_s4 = train_test_dataset_balance('../data/balanced_diff_seq', 'mode_2')\n"
   ]
  },
  {
   "cell_type": "code",
   "execution_count": 81,
   "id": "907140a7-d8ba-45d5-8191-45d29b14590d",
   "metadata": {},
   "outputs": [
    {
     "data": {
      "text/plain": [
       "13193"
      ]
     },
     "execution_count": 81,
     "metadata": {},
     "output_type": "execute_result"
    }
   ],
   "source": [
    "len(X2_train1_s4)"
   ]
  },
  {
   "cell_type": "code",
   "execution_count": null,
   "id": "1c75d3d7-21ce-4ea2-9d93-7debb30ad115",
   "metadata": {},
   "outputs": [],
   "source": [
    "ML_pred_for_balance(X1_train1_s4, X1_train2_s4, X1_train3_s4, y1_train1_s4, y1_train2_s4, y1_train3_s4, X1_test_s4, y1_test_s4, 'balanced_diff_seq')\n",
    "ML_pred_for_balance(X2_train1_s4, X2_train2_s4, X2_train3_s4, y2_train1_s4, y2_train2_s4, y2_train3_s4, X2_test_s4, y2_test_s4, 'balanced_diff_seq')\n"
   ]
  }
 ],
 "metadata": {
  "kernelspec": {
   "display_name": "Python 3 (ipykernel)",
   "language": "python",
   "name": "python3"
  },
  "language_info": {
   "codemirror_mode": {
    "name": "ipython",
    "version": 3
   },
   "file_extension": ".py",
   "mimetype": "text/x-python",
   "name": "python",
   "nbconvert_exporter": "python",
   "pygments_lexer": "ipython3",
   "version": "3.9.13"
  }
 },
 "nbformat": 4,
 "nbformat_minor": 5
}
