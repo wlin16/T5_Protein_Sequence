{
 "cells": [
  {
   "cell_type": "code",
   "execution_count": 1,
   "id": "3f2b10b9-4ec0-4dcd-9b05-e4f451edddeb",
   "metadata": {},
   "outputs": [],
   "source": [
    "import pandas as pd\n",
    "import numpy as np\n",
    "import matplotlib.pyplot as plt\n",
    "\n",
    "from transformers import T5Tokenizer, T5Model\n",
    "\n",
    "import torch\n",
    "import torch.nn as nn\n",
    "from torch.utils.tensorboard import SummaryWriter\n",
    "from torch.utils.data import TensorDataset, DataLoader, RandomSampler, SequentialSampler\n",
    "\n",
    "import os\n",
    "from tqdm import tqdm\n",
    "import math\n",
    "import re\n",
    "import random\n",
    "\n",
    "from sklearn.linear_model import SGDClassifier\n",
    "from sklearn.model_selection import cross_val_score\n",
    "from sklearn.model_selection import train_test_split\n",
    "from sklearn.ensemble import RandomForestClassifier"
   ]
  },
  {
   "cell_type": "code",
   "execution_count": null,
   "id": "0ada53c9-985d-453d-a287-706de5c95fd5",
   "metadata": {},
   "outputs": [],
   "source": []
  },
  {
   "cell_type": "markdown",
   "id": "2d2a4d57-30e3-4852-92da-0d911935943a",
   "metadata": {},
   "source": [
    "# 数据预处理"
   ]
  },
  {
   "cell_type": "code",
   "execution_count": 5,
   "id": "67986c7f-6337-4429-8e7a-fde343360e38",
   "metadata": {},
   "outputs": [],
   "source": [
    "protein_seq = pd.read_csv('../3CNet_data/data/seq_for_embedding.csv')"
   ]
  },
  {
   "cell_type": "code",
   "execution_count": 49,
   "id": "d931602b-c117-46d9-a983-38c378edd673",
   "metadata": {},
   "outputs": [
    {
     "data": {
      "text/html": [
       "<div>\n",
       "<style scoped>\n",
       "    .dataframe tbody tr th:only-of-type {\n",
       "        vertical-align: middle;\n",
       "    }\n",
       "\n",
       "    .dataframe tbody tr th {\n",
       "        vertical-align: top;\n",
       "    }\n",
       "\n",
       "    .dataframe thead th {\n",
       "        text-align: right;\n",
       "    }\n",
       "</style>\n",
       "<table border=\"1\" class=\"dataframe\">\n",
       "  <thead>\n",
       "    <tr style=\"text-align: right;\">\n",
       "      <th></th>\n",
       "      <th>gene_id</th>\n",
       "      <th>UniProt_ID</th>\n",
       "      <th>Entry Name</th>\n",
       "      <th>Gene Names</th>\n",
       "      <th>Length</th>\n",
       "      <th>aa_index</th>\n",
       "      <th>wt</th>\n",
       "      <th>mt</th>\n",
       "      <th>wt_seq</th>\n",
       "      <th>mt_seq</th>\n",
       "      <th>pathogenicity</th>\n",
       "      <th>Reviewed</th>\n",
       "      <th>AlphaFoldDB</th>\n",
       "      <th>PDB</th>\n",
       "    </tr>\n",
       "  </thead>\n",
       "  <tbody>\n",
       "    <tr>\n",
       "      <th>0</th>\n",
       "      <td>NP_006712.2</td>\n",
       "      <td>P55263</td>\n",
       "      <td>ADK_HUMAN</td>\n",
       "      <td>ADK</td>\n",
       "      <td>362</td>\n",
       "      <td>344</td>\n",
       "      <td>A</td>\n",
       "      <td>V</td>\n",
       "      <td>M A A A E E E P K P K K L K V E A P Q A L R E ...</td>\n",
       "      <td>M A A A E E E P K P K K L K V E A P Q A L R E ...</td>\n",
       "      <td>1.0</td>\n",
       "      <td>reviewed</td>\n",
       "      <td>P55263;</td>\n",
       "      <td>1BX4;2I6A;2I6B;4O1L;</td>\n",
       "    </tr>\n",
       "    <tr>\n",
       "      <th>1</th>\n",
       "      <td>NP_005893.1</td>\n",
       "      <td>P84022</td>\n",
       "      <td>SMAD3_HUMAN</td>\n",
       "      <td>SMAD3 MADH3</td>\n",
       "      <td>425</td>\n",
       "      <td>212</td>\n",
       "      <td>M</td>\n",
       "      <td>I</td>\n",
       "      <td>M S S I L P F T P P I V K R L L G W K K G E Q ...</td>\n",
       "      <td>M S S I L P F T P P I V K R L L G W K K G E Q ...</td>\n",
       "      <td>0.0</td>\n",
       "      <td>reviewed</td>\n",
       "      <td>P84022;</td>\n",
       "      <td>1MHD;1MJS;1MK2;1OZJ;1U7F;2LAJ;2LB2;5OD6;5ODG;5...</td>\n",
       "    </tr>\n",
       "    <tr>\n",
       "      <th>2</th>\n",
       "      <td>NP_005893.1</td>\n",
       "      <td>P84022</td>\n",
       "      <td>SMAD3_HUMAN</td>\n",
       "      <td>SMAD3 MADH3</td>\n",
       "      <td>425</td>\n",
       "      <td>331</td>\n",
       "      <td>V</td>\n",
       "      <td>F</td>\n",
       "      <td>M S S I L P F T P P I V K R L L G W K K G E Q ...</td>\n",
       "      <td>M S S I L P F T P P I V K R L L G W K K G E Q ...</td>\n",
       "      <td>1.0</td>\n",
       "      <td>reviewed</td>\n",
       "      <td>P84022;</td>\n",
       "      <td>1MHD;1MJS;1MK2;1OZJ;1U7F;2LAJ;2LB2;5OD6;5ODG;5...</td>\n",
       "    </tr>\n",
       "    <tr>\n",
       "      <th>3</th>\n",
       "      <td>NP_005893.1</td>\n",
       "      <td>P84022</td>\n",
       "      <td>SMAD3_HUMAN</td>\n",
       "      <td>SMAD3 MADH3</td>\n",
       "      <td>425</td>\n",
       "      <td>364</td>\n",
       "      <td>Y</td>\n",
       "      <td>C</td>\n",
       "      <td>M S S I L P F T P P I V K R L L G W K K G E Q ...</td>\n",
       "      <td>M S S I L P F T P P I V K R L L G W K K G E Q ...</td>\n",
       "      <td>1.0</td>\n",
       "      <td>reviewed</td>\n",
       "      <td>P84022;</td>\n",
       "      <td>1MHD;1MJS;1MK2;1OZJ;1U7F;2LAJ;2LB2;5OD6;5ODG;5...</td>\n",
       "    </tr>\n",
       "    <tr>\n",
       "      <th>4</th>\n",
       "      <td>NP_005893.1</td>\n",
       "      <td>P84022</td>\n",
       "      <td>SMAD3_HUMAN</td>\n",
       "      <td>SMAD3 MADH3</td>\n",
       "      <td>425</td>\n",
       "      <td>365</td>\n",
       "      <td>Q</td>\n",
       "      <td>L</td>\n",
       "      <td>M S S I L P F T P P I V K R L L G W K K G E Q ...</td>\n",
       "      <td>M S S I L P F T P P I V K R L L G W K K G E Q ...</td>\n",
       "      <td>1.0</td>\n",
       "      <td>reviewed</td>\n",
       "      <td>P84022;</td>\n",
       "      <td>1MHD;1MJS;1MK2;1OZJ;1U7F;2LAJ;2LB2;5OD6;5ODG;5...</td>\n",
       "    </tr>\n",
       "    <tr>\n",
       "      <th>5</th>\n",
       "      <td>NP_005893.1</td>\n",
       "      <td>P84022</td>\n",
       "      <td>SMAD3_HUMAN</td>\n",
       "      <td>SMAD3 MADH3</td>\n",
       "      <td>425</td>\n",
       "      <td>385</td>\n",
       "      <td>R</td>\n",
       "      <td>G</td>\n",
       "      <td>M S S I L P F T P P I V K R L L G W K K G E Q ...</td>\n",
       "      <td>M S S I L P F T P P I V K R L L G W K K G E Q ...</td>\n",
       "      <td>1.0</td>\n",
       "      <td>reviewed</td>\n",
       "      <td>P84022;</td>\n",
       "      <td>1MHD;1MJS;1MK2;1OZJ;1U7F;2LAJ;2LB2;5OD6;5ODG;5...</td>\n",
       "    </tr>\n",
       "    <tr>\n",
       "      <th>6</th>\n",
       "      <td>NP_005893.1</td>\n",
       "      <td>P84022</td>\n",
       "      <td>SMAD3_HUMAN</td>\n",
       "      <td>SMAD3 MADH3</td>\n",
       "      <td>425</td>\n",
       "      <td>385</td>\n",
       "      <td>R</td>\n",
       "      <td>T</td>\n",
       "      <td>M S S I L P F T P P I V K R L L G W K K G E Q ...</td>\n",
       "      <td>M S S I L P F T P P I V K R L L G W K K G E Q ...</td>\n",
       "      <td>1.0</td>\n",
       "      <td>reviewed</td>\n",
       "      <td>P84022;</td>\n",
       "      <td>1MHD;1MJS;1MK2;1OZJ;1U7F;2LAJ;2LB2;5OD6;5ODG;5...</td>\n",
       "    </tr>\n",
       "    <tr>\n",
       "      <th>7</th>\n",
       "      <td>NP_005893.1</td>\n",
       "      <td>P84022</td>\n",
       "      <td>SMAD3_HUMAN</td>\n",
       "      <td>SMAD3 MADH3</td>\n",
       "      <td>425</td>\n",
       "      <td>408</td>\n",
       "      <td>D</td>\n",
       "      <td>H</td>\n",
       "      <td>M S S I L P F T P P I V K R L L G W K K G E Q ...</td>\n",
       "      <td>M S S I L P F T P P I V K R L L G W K K G E Q ...</td>\n",
       "      <td>1.0</td>\n",
       "      <td>reviewed</td>\n",
       "      <td>P84022;</td>\n",
       "      <td>1MHD;1MJS;1MK2;1OZJ;1U7F;2LAJ;2LB2;5OD6;5ODG;5...</td>\n",
       "    </tr>\n",
       "    <tr>\n",
       "      <th>8</th>\n",
       "      <td>NP_005893.1</td>\n",
       "      <td>P84022</td>\n",
       "      <td>SMAD3_HUMAN</td>\n",
       "      <td>SMAD3 MADH3</td>\n",
       "      <td>425</td>\n",
       "      <td>423</td>\n",
       "      <td>S</td>\n",
       "      <td>N</td>\n",
       "      <td>M S S I L P F T P P I V K R L L G W K K G E Q ...</td>\n",
       "      <td>M S S I L P F T P P I V K R L L G W K K G E Q ...</td>\n",
       "      <td>1.0</td>\n",
       "      <td>reviewed</td>\n",
       "      <td>P84022;</td>\n",
       "      <td>1MHD;1MJS;1MK2;1OZJ;1U7F;2LAJ;2LB2;5OD6;5ODG;5...</td>\n",
       "    </tr>\n",
       "    <tr>\n",
       "      <th>9</th>\n",
       "      <td>NP_001332851.1</td>\n",
       "      <td>Q9UBT6</td>\n",
       "      <td>POLK_HUMAN</td>\n",
       "      <td>POLK DINB1</td>\n",
       "      <td>870</td>\n",
       "      <td>81</td>\n",
       "      <td>F</td>\n",
       "      <td>S</td>\n",
       "      <td>M D S T K E K C D S Y K D D L L L R M G L N D ...</td>\n",
       "      <td>M D S T K E K C D S Y K D D L L L R M G L N D ...</td>\n",
       "      <td>1.0</td>\n",
       "      <td>reviewed</td>\n",
       "      <td>Q9UBT6;</td>\n",
       "      <td>1T94;2LSI;2OH2;2W7O;2W7P;3IN5;3PZP;4BA9;4GK5;4...</td>\n",
       "    </tr>\n",
       "    <tr>\n",
       "      <th>10</th>\n",
       "      <td>NP_003480.2</td>\n",
       "      <td>P48552</td>\n",
       "      <td>NRIP1_HUMAN</td>\n",
       "      <td>NRIP1</td>\n",
       "      <td>1158</td>\n",
       "      <td>1152</td>\n",
       "      <td>T</td>\n",
       "      <td>M</td>\n",
       "      <td>M T H G E E L G S D V H Q D S I V L T Y L E G ...</td>\n",
       "      <td>M T H G E E L G S D V H Q D S I V L T Y L E G ...</td>\n",
       "      <td>0.0</td>\n",
       "      <td>reviewed</td>\n",
       "      <td>P48552;</td>\n",
       "      <td>2GPO;2GPP;4S14;4S15;5NTI;5NTN;5NTW;5NU1;6FZU;6...</td>\n",
       "    </tr>\n",
       "    <tr>\n",
       "      <th>11</th>\n",
       "      <td>NP_003480.2</td>\n",
       "      <td>P48552</td>\n",
       "      <td>NRIP1_HUMAN</td>\n",
       "      <td>NRIP1</td>\n",
       "      <td>1158</td>\n",
       "      <td>1138</td>\n",
       "      <td>S</td>\n",
       "      <td>G</td>\n",
       "      <td>M T H G E E L G S D V H Q D S I V L T Y L E G ...</td>\n",
       "      <td>M T H G E E L G S D V H Q D S I V L T Y L E G ...</td>\n",
       "      <td>0.0</td>\n",
       "      <td>reviewed</td>\n",
       "      <td>P48552;</td>\n",
       "      <td>2GPO;2GPP;4S14;4S15;5NTI;5NTN;5NTW;5NU1;6FZU;6...</td>\n",
       "    </tr>\n",
       "    <tr>\n",
       "      <th>12</th>\n",
       "      <td>NP_003480.2</td>\n",
       "      <td>P48552</td>\n",
       "      <td>NRIP1_HUMAN</td>\n",
       "      <td>NRIP1</td>\n",
       "      <td>1158</td>\n",
       "      <td>1135</td>\n",
       "      <td>R</td>\n",
       "      <td>C</td>\n",
       "      <td>M T H G E E L G S D V H Q D S I V L T Y L E G ...</td>\n",
       "      <td>M T H G E E L G S D V H Q D S I V L T Y L E G ...</td>\n",
       "      <td>0.0</td>\n",
       "      <td>reviewed</td>\n",
       "      <td>P48552;</td>\n",
       "      <td>2GPO;2GPP;4S14;4S15;5NTI;5NTN;5NTW;5NU1;6FZU;6...</td>\n",
       "    </tr>\n",
       "    <tr>\n",
       "      <th>13</th>\n",
       "      <td>NP_003480.2</td>\n",
       "      <td>P48552</td>\n",
       "      <td>NRIP1_HUMAN</td>\n",
       "      <td>NRIP1</td>\n",
       "      <td>1158</td>\n",
       "      <td>1101</td>\n",
       "      <td>Q</td>\n",
       "      <td>H</td>\n",
       "      <td>M T H G E E L G S D V H Q D S I V L T Y L E G ...</td>\n",
       "      <td>M T H G E E L G S D V H Q D S I V L T Y L E G ...</td>\n",
       "      <td>0.0</td>\n",
       "      <td>reviewed</td>\n",
       "      <td>P48552;</td>\n",
       "      <td>2GPO;2GPP;4S14;4S15;5NTI;5NTN;5NTW;5NU1;6FZU;6...</td>\n",
       "    </tr>\n",
       "    <tr>\n",
       "      <th>14</th>\n",
       "      <td>NP_003480.2</td>\n",
       "      <td>P48552</td>\n",
       "      <td>NRIP1_HUMAN</td>\n",
       "      <td>NRIP1</td>\n",
       "      <td>1158</td>\n",
       "      <td>917</td>\n",
       "      <td>S</td>\n",
       "      <td>L</td>\n",
       "      <td>M T H G E E L G S D V H Q D S I V L T Y L E G ...</td>\n",
       "      <td>M T H G E E L G S D V H Q D S I V L T Y L E G ...</td>\n",
       "      <td>0.0</td>\n",
       "      <td>reviewed</td>\n",
       "      <td>P48552;</td>\n",
       "      <td>2GPO;2GPP;4S14;4S15;5NTI;5NTN;5NTW;5NU1;6FZU;6...</td>\n",
       "    </tr>\n",
       "  </tbody>\n",
       "</table>\n",
       "</div>"
      ],
      "text/plain": [
       "           gene_id UniProt_ID   Entry Name   Gene Names  Length  aa_index wt  \\\n",
       "0      NP_006712.2     P55263    ADK_HUMAN          ADK     362       344  A   \n",
       "1      NP_005893.1     P84022  SMAD3_HUMAN  SMAD3 MADH3     425       212  M   \n",
       "2      NP_005893.1     P84022  SMAD3_HUMAN  SMAD3 MADH3     425       331  V   \n",
       "3      NP_005893.1     P84022  SMAD3_HUMAN  SMAD3 MADH3     425       364  Y   \n",
       "4      NP_005893.1     P84022  SMAD3_HUMAN  SMAD3 MADH3     425       365  Q   \n",
       "5      NP_005893.1     P84022  SMAD3_HUMAN  SMAD3 MADH3     425       385  R   \n",
       "6      NP_005893.1     P84022  SMAD3_HUMAN  SMAD3 MADH3     425       385  R   \n",
       "7      NP_005893.1     P84022  SMAD3_HUMAN  SMAD3 MADH3     425       408  D   \n",
       "8      NP_005893.1     P84022  SMAD3_HUMAN  SMAD3 MADH3     425       423  S   \n",
       "9   NP_001332851.1     Q9UBT6   POLK_HUMAN   POLK DINB1     870        81  F   \n",
       "10     NP_003480.2     P48552  NRIP1_HUMAN        NRIP1    1158      1152  T   \n",
       "11     NP_003480.2     P48552  NRIP1_HUMAN        NRIP1    1158      1138  S   \n",
       "12     NP_003480.2     P48552  NRIP1_HUMAN        NRIP1    1158      1135  R   \n",
       "13     NP_003480.2     P48552  NRIP1_HUMAN        NRIP1    1158      1101  Q   \n",
       "14     NP_003480.2     P48552  NRIP1_HUMAN        NRIP1    1158       917  S   \n",
       "\n",
       "   mt                                             wt_seq  \\\n",
       "0   V  M A A A E E E P K P K K L K V E A P Q A L R E ...   \n",
       "1   I  M S S I L P F T P P I V K R L L G W K K G E Q ...   \n",
       "2   F  M S S I L P F T P P I V K R L L G W K K G E Q ...   \n",
       "3   C  M S S I L P F T P P I V K R L L G W K K G E Q ...   \n",
       "4   L  M S S I L P F T P P I V K R L L G W K K G E Q ...   \n",
       "5   G  M S S I L P F T P P I V K R L L G W K K G E Q ...   \n",
       "6   T  M S S I L P F T P P I V K R L L G W K K G E Q ...   \n",
       "7   H  M S S I L P F T P P I V K R L L G W K K G E Q ...   \n",
       "8   N  M S S I L P F T P P I V K R L L G W K K G E Q ...   \n",
       "9   S  M D S T K E K C D S Y K D D L L L R M G L N D ...   \n",
       "10  M  M T H G E E L G S D V H Q D S I V L T Y L E G ...   \n",
       "11  G  M T H G E E L G S D V H Q D S I V L T Y L E G ...   \n",
       "12  C  M T H G E E L G S D V H Q D S I V L T Y L E G ...   \n",
       "13  H  M T H G E E L G S D V H Q D S I V L T Y L E G ...   \n",
       "14  L  M T H G E E L G S D V H Q D S I V L T Y L E G ...   \n",
       "\n",
       "                                               mt_seq  pathogenicity  \\\n",
       "0   M A A A E E E P K P K K L K V E A P Q A L R E ...            1.0   \n",
       "1   M S S I L P F T P P I V K R L L G W K K G E Q ...            0.0   \n",
       "2   M S S I L P F T P P I V K R L L G W K K G E Q ...            1.0   \n",
       "3   M S S I L P F T P P I V K R L L G W K K G E Q ...            1.0   \n",
       "4   M S S I L P F T P P I V K R L L G W K K G E Q ...            1.0   \n",
       "5   M S S I L P F T P P I V K R L L G W K K G E Q ...            1.0   \n",
       "6   M S S I L P F T P P I V K R L L G W K K G E Q ...            1.0   \n",
       "7   M S S I L P F T P P I V K R L L G W K K G E Q ...            1.0   \n",
       "8   M S S I L P F T P P I V K R L L G W K K G E Q ...            1.0   \n",
       "9   M D S T K E K C D S Y K D D L L L R M G L N D ...            1.0   \n",
       "10  M T H G E E L G S D V H Q D S I V L T Y L E G ...            0.0   \n",
       "11  M T H G E E L G S D V H Q D S I V L T Y L E G ...            0.0   \n",
       "12  M T H G E E L G S D V H Q D S I V L T Y L E G ...            0.0   \n",
       "13  M T H G E E L G S D V H Q D S I V L T Y L E G ...            0.0   \n",
       "14  M T H G E E L G S D V H Q D S I V L T Y L E G ...            0.0   \n",
       "\n",
       "    Reviewed AlphaFoldDB                                                PDB  \n",
       "0   reviewed     P55263;                               1BX4;2I6A;2I6B;4O1L;  \n",
       "1   reviewed     P84022;  1MHD;1MJS;1MK2;1OZJ;1U7F;2LAJ;2LB2;5OD6;5ODG;5...  \n",
       "2   reviewed     P84022;  1MHD;1MJS;1MK2;1OZJ;1U7F;2LAJ;2LB2;5OD6;5ODG;5...  \n",
       "3   reviewed     P84022;  1MHD;1MJS;1MK2;1OZJ;1U7F;2LAJ;2LB2;5OD6;5ODG;5...  \n",
       "4   reviewed     P84022;  1MHD;1MJS;1MK2;1OZJ;1U7F;2LAJ;2LB2;5OD6;5ODG;5...  \n",
       "5   reviewed     P84022;  1MHD;1MJS;1MK2;1OZJ;1U7F;2LAJ;2LB2;5OD6;5ODG;5...  \n",
       "6   reviewed     P84022;  1MHD;1MJS;1MK2;1OZJ;1U7F;2LAJ;2LB2;5OD6;5ODG;5...  \n",
       "7   reviewed     P84022;  1MHD;1MJS;1MK2;1OZJ;1U7F;2LAJ;2LB2;5OD6;5ODG;5...  \n",
       "8   reviewed     P84022;  1MHD;1MJS;1MK2;1OZJ;1U7F;2LAJ;2LB2;5OD6;5ODG;5...  \n",
       "9   reviewed     Q9UBT6;  1T94;2LSI;2OH2;2W7O;2W7P;3IN5;3PZP;4BA9;4GK5;4...  \n",
       "10  reviewed     P48552;  2GPO;2GPP;4S14;4S15;5NTI;5NTN;5NTW;5NU1;6FZU;6...  \n",
       "11  reviewed     P48552;  2GPO;2GPP;4S14;4S15;5NTI;5NTN;5NTW;5NU1;6FZU;6...  \n",
       "12  reviewed     P48552;  2GPO;2GPP;4S14;4S15;5NTI;5NTN;5NTW;5NU1;6FZU;6...  \n",
       "13  reviewed     P48552;  2GPO;2GPP;4S14;4S15;5NTI;5NTN;5NTW;5NU1;6FZU;6...  \n",
       "14  reviewed     P48552;  2GPO;2GPP;4S14;4S15;5NTI;5NTN;5NTW;5NU1;6FZU;6...  "
      ]
     },
     "execution_count": 49,
     "metadata": {},
     "output_type": "execute_result"
    }
   ],
   "source": [
    "protein_seq.head(15)"
   ]
  },
  {
   "cell_type": "code",
   "execution_count": 7,
   "id": "602c1eb6-ee47-4c88-a68d-9ff1ec83932c",
   "metadata": {},
   "outputs": [],
   "source": [
    "# add space between each amino aicds\n",
    "protein_seq['wt_seq'] = protein_seq['wt_seq'].apply(lambda x: ' '.join(x))\n",
    "protein_seq['mt_seq'] = protein_seq['mt_seq'].apply(lambda x: ' '.join(x))"
   ]
  },
  {
   "cell_type": "code",
   "execution_count": 24,
   "id": "fd9d7400-59bc-4140-86e9-3bf6ac12a746",
   "metadata": {},
   "outputs": [],
   "source": [
    "label_names = set(protein_seq['pathogenicity'])"
   ]
  },
  {
   "cell_type": "code",
   "execution_count": 25,
   "id": "6d4cb4a6-2808-45a1-8969-9c17ebfa7e99",
   "metadata": {},
   "outputs": [
    {
     "data": {
      "text/plain": [
       "{0.0, 1.0}"
      ]
     },
     "execution_count": 25,
     "metadata": {},
     "output_type": "execute_result"
    }
   ],
   "source": [
    "label_names"
   ]
  },
  {
   "cell_type": "code",
   "execution_count": 50,
   "id": "f2cb38bc-d146-4f88-b283-8f36c2cbee98",
   "metadata": {},
   "outputs": [],
   "source": [
    "protein_test = protein_seq.head(30)"
   ]
  },
  {
   "cell_type": "markdown",
   "id": "d8cb1316-78b6-4433-ac5d-d8781ecf8aaf",
   "metadata": {},
   "source": [
    "## Embedding"
   ]
  },
  {
   "cell_type": "code",
   "execution_count": 51,
   "id": "38d20d7f-78b0-431b-b49b-98a4e08e8e9e",
   "metadata": {},
   "outputs": [
    {
     "name": "stdout",
     "output_type": "stream",
     "text": [
      "Device name: MPS\n"
     ]
    }
   ],
   "source": [
    "# config\n",
    "max_seq_len = 380\n",
    "batch_size = 16\n",
    "\n",
    "# CUDA\n",
    "USE_CUDA = torch.cuda.is_available()\n",
    "\n",
    "# MPS:\n",
    "USE_MPS = torch.has_mps\n",
    "\n",
    "if USE_MPS:\n",
    "    torch.cuda.manual_seed(2020)\n",
    "    device = torch.device('mps')\n",
    "    print('Device name: MPS')\n",
    "else:\n",
    "    print('No GPU available, using the CPU instead.')\n",
    "    device = torch.device(\"cpu\")\n",
    "\n",
    "# if torch.cuda.is_available():       \n",
    "#     device = torch.device(\"cuda\")\n",
    "#     print(f'There are {torch.cuda.device_count()} GPU(s) available.')\n",
    "#     print('Device name:', torch.cuda.get_device_name(0))\n",
    "\n",
    "# else:\n",
    "#     print('No GPU available, using the CPU instead.')\n",
    "#     device = torch.device(\"cpu\")"
   ]
  },
  {
   "cell_type": "code",
   "execution_count": 52,
   "id": "e01a6c38-650f-4f67-85e8-09fa06b6c052",
   "metadata": {},
   "outputs": [],
   "source": [
    "from transformers import T5Tokenizer, T5EncoderModel\n",
    "tokenizer = T5Tokenizer.from_pretrained('Rostlab/prot_t5_xl_half_uniref50-enc', do_lower_case=False)\n",
    "model = T5EncoderModel.from_pretrained(\"Rostlab/prot_t5_xl_half_uniref50-enc\").to(device)"
   ]
  },
  {
   "cell_type": "code",
   "execution_count": 53,
   "id": "fb0d116e-c362-4fc7-ab95-364c99efcffc",
   "metadata": {},
   "outputs": [],
   "source": [
    "import pickle\n",
    "def get_embedding(protein_seq):\n",
    "    \n",
    "    xs = []\n",
    "    result = None\n",
    "    \n",
    "    for index, seq in protein_seq.iterrows():\n",
    "        s_len = len(seq['wt_seq'].replace(\" \",'')) + 1\n",
    "        aa_index = seq['aa_index']\n",
    "        label = seq['pathogenicity']\n",
    "        wt_aa = seq['wt']\n",
    "        mt_aa = seq['mt']\n",
    "        wt_seq = seq['wt_seq']\n",
    "        mt_seq = seq['mt_seq']\n",
    "        AF_DB = seq['AlphaFoldDB']\n",
    "        PDB = seq['PDB']\n",
    "        pathogenicity = seq['pathogenicity']\n",
    "        # add_special_tokens adds extra token at the end of each sequence\n",
    "        token_encoding = tokenizer.batch_encode_plus([seq['wt_seq'], seq['mt_seq']], add_special_tokens=True, padding=\"longest\")\n",
    "        input_ids      = torch.tensor(token_encoding['input_ids']).to(device)\n",
    "        attention_mask = torch.tensor(token_encoding['attention_mask']).to(device)\n",
    "\n",
    "        with torch.no_grad():\n",
    "            # returns: ( batch-size x max_seq_len_in_minibatch x embedding_dim )\n",
    "            embedding_repr = model(input_ids, attention_mask=attention_mask)\n",
    "            emb = embedding_repr.last_hidden_state[:, :s_len]\n",
    "            emb = emb[:, aa_index, :]\n",
    "            # print(aa_index)\n",
    "            x = emb.detach().cpu().numpy().squeeze()\n",
    "            temp = pd.DataFrame({'label':pathogenicity,'mutant_index': aa_index,'wt_aa': wt_aa, 't_aa': mt_aa, 'wt_seq': wt_seq, 'mt_seq': mt_seq, 'wt_emb': [x[0, :]], 'mt_emb':[x[1,:]], 'AF_DB': AF_DB, 'PDB_ID': PDB})\n",
    "            if result is None:\n",
    "                result=temp\n",
    "            else:\n",
    "                result = pd.concat([result,temp])\n",
    "\n",
    "            xs.append({'x':x.reshape(1,-1), 'label':label})\n",
    "            \n",
    "    result.to_csv('sequence_with_embeddings.csv', index = None)\n",
    "    with open('emb.pkl', 'wb') as f:\n",
    "        pickle.dump(xs,f)\n",
    "\n",
    "        \n",
    "get_embedding(protein_test)  \n"
   ]
  },
  {
   "cell_type": "code",
   "execution_count": null,
   "id": "45e98f74-f6f5-40ac-9da2-b9c42dcf6e17",
   "metadata": {},
   "outputs": [],
   "source": []
  },
  {
   "cell_type": "markdown",
   "id": "5ae10673-8bd9-458c-ae59-d10ec9160d6a",
   "metadata": {},
   "source": [
    "## Read embedding data"
   ]
  },
  {
   "cell_type": "code",
   "execution_count": 54,
   "id": "d0d46d5b-a1d6-42dd-8809-b0c2a4831297",
   "metadata": {},
   "outputs": [],
   "source": [
    "# read residue_embeddings\n",
    "with open('emb.pkl', 'rb') as file:\n",
    "    y = pickle.load(file)"
   ]
  },
  {
   "cell_type": "code",
   "execution_count": 55,
   "id": "91cfe9bf-8a55-457b-9ffc-e5c99857ebb0",
   "metadata": {},
   "outputs": [],
   "source": [
    "data_y = []\n",
    "data_X = []\n",
    "for i in range(len(y)):\n",
    "    data_X.append(y[i]['x'][0])\n",
    "    data_y.append(int(y[i]['label']))"
   ]
  },
  {
   "cell_type": "code",
   "execution_count": 56,
   "id": "56f7d615-88e2-454f-a78d-a5e411216088",
   "metadata": {},
   "outputs": [
    {
     "data": {
      "text/plain": [
       "(30, 2048)"
      ]
     },
     "execution_count": 56,
     "metadata": {},
     "output_type": "execute_result"
    }
   ],
   "source": [
    "# turn residue_enbeddings (tensors) into numpy array\n",
    "data_X = np.array(data_X)\n",
    "data_X.shape"
   ]
  },
  {
   "cell_type": "markdown",
   "id": "396cdaa3-e8fc-45f0-9a04-0c1c2f6b8e81",
   "metadata": {
    "tags": []
   },
   "source": [
    "## Dataset and Traditional ML method"
   ]
  },
  {
   "cell_type": "code",
   "execution_count": 58,
   "id": "dbf98ba6-7ce4-4aca-864f-b39451ccfc3c",
   "metadata": {},
   "outputs": [
    {
     "data": {
      "text/plain": [
       "(24, 2, 24, 2, 4, 4)"
      ]
     },
     "execution_count": 58,
     "metadata": {},
     "output_type": "execute_result"
    }
   ],
   "source": [
    "# 切分数据集\n",
    "X_train, X_test, y_train, y_test= train_test_split(data_X, data_y,\n",
    "                                                    test_size=0.2,\n",
    "                                                    stratify=data_y,\n",
    "                                                   random_state=42)\n",
    "# 切分出valid数据集\n",
    "X_valid, X_test, y_valid, y_test = train_test_split(X_test,y_test,\n",
    "                                               test_size=0.3,\n",
    "                                               shuffle=True,\n",
    "                                               stratify=y_test,\n",
    "                                               random_state=42)\n",
    "\n",
    "len(X_train), len(X_test),len(y_train),len(y_test), len(X_valid),len(y_valid)"
   ]
  },
  {
   "cell_type": "code",
   "execution_count": null,
   "id": "4bf4fd87-4d7e-4e18-b432-696fcb37dd0b",
   "metadata": {},
   "outputs": [],
   "source": [
    "from xgboost import XGBClassifier\n",
    "from sklearn.ensemble import RandomForestClassifier,GradientBoostingClassifier\n",
    "from sklearn.metrics import classification_report\n",
    "\n",
    "eval_s = [(X_train, y_train), (X_test, y_test)]\n",
    "\n",
    "rfc=RandomForestClassifier(random_state=0, n_estimators = 7)\n",
    "gbt=GradientBoostingClassifier(random_state=0, n_estimators = 5)\n",
    "xgb = XGBClassifier()\n",
    "\n",
    "rfc.fit(X_train, y_train)\n",
    "gbt.fit(X_train, y_train)\n",
    "xgb.fit(X_train, y_train, early_stopping_rounds=10, eval_set=eval_s, verbose=False)\n",
    "\n",
    "y_rfc = rfc.predict(X_test)\n",
    "y_gbt = gbt.predict(X_test)\n",
    "y_xgb = xgb.predict(X_test)"
   ]
  },
  {
   "cell_type": "code",
   "execution_count": null,
   "id": "8c83b3aa-5822-416c-a3b4-0c95f31d4525",
   "metadata": {},
   "outputs": [],
   "source": []
  },
  {
   "cell_type": "code",
   "execution_count": null,
   "id": "589f0f29-e6bb-46a2-8536-99fef8b8c12c",
   "metadata": {},
   "outputs": [],
   "source": []
  },
  {
   "cell_type": "code",
   "execution_count": null,
   "id": "346b9022-6fcc-47fd-8854-f2630fa1a120",
   "metadata": {},
   "outputs": [],
   "source": [
    "# RandomForest report\n",
    "rfc_report = classification_report(y_test, y_rfc, target_names=label_names)\n",
    "print(rfc_report)"
   ]
  },
  {
   "cell_type": "code",
   "execution_count": null,
   "id": "3b97baf1-450b-4d12-8fda-4722fbc680f4",
   "metadata": {},
   "outputs": [],
   "source": [
    "# GradientBoosting report\n",
    "gbt_report = classification_report(y_test, y_xbg, target_names=label_names)\n",
    "print(gbt_report)"
   ]
  },
  {
   "cell_type": "code",
   "execution_count": null,
   "id": "5b802357-6269-4929-b13a-068675f85d0a",
   "metadata": {},
   "outputs": [],
   "source": [
    "# XGBoost report\n",
    "xgb_report = classification_report(y_test, y_xbg, target_names=label_names)\n",
    "print(xgb_report)"
   ]
  },
  {
   "cell_type": "markdown",
   "id": "b133943d-c033-4829-a895-9eef00ffcfb4",
   "metadata": {
    "jp-MarkdownHeadingCollapsed": true,
    "tags": []
   },
   "source": [
    "## 随机生成蛋白序列"
   ]
  },
  {
   "cell_type": "code",
   "execution_count": 2,
   "id": "11b99d1b-1aeb-41cb-9d39-5e0cce5c7260",
   "metadata": {
    "jupyter": {
     "source_hidden": true
    },
    "tags": []
   },
   "outputs": [
    {
     "ename": "KeyboardInterrupt",
     "evalue": "",
     "output_type": "error",
     "traceback": [
      "\u001b[0;31m---------------------------------------------------------------------------\u001b[0m",
      "\u001b[0;31mKeyboardInterrupt\u001b[0m                         Traceback (most recent call last)",
      "\u001b[0;32m/tmp/ipykernel_4576/2460066529.py\u001b[0m in \u001b[0;36m<module>\u001b[0;34m\u001b[0m\n\u001b[1;32m     29\u001b[0m     \u001b[0msub_aa\u001b[0m\u001b[0;34m.\u001b[0m\u001b[0mappend\u001b[0m\u001b[0;34m(\u001b[0m\u001b[0mreplace\u001b[0m\u001b[0;34m)\u001b[0m\u001b[0;34m\u001b[0m\u001b[0;34m\u001b[0m\u001b[0m\n\u001b[1;32m     30\u001b[0m     \u001b[0morigin_aa\u001b[0m\u001b[0;34m.\u001b[0m\u001b[0mappend\u001b[0m\u001b[0;34m(\u001b[0m\u001b[0morigin\u001b[0m\u001b[0;34m)\u001b[0m\u001b[0;34m\u001b[0m\u001b[0;34m\u001b[0m\u001b[0m\n\u001b[0;32m---> 31\u001b[0;31m     \u001b[0mlabel\u001b[0m \u001b[0;34m=\u001b[0m \u001b[0;34m[\u001b[0m\u001b[0mrandom\u001b[0m\u001b[0;34m.\u001b[0m\u001b[0mrandint\u001b[0m\u001b[0;34m(\u001b[0m\u001b[0;36m0\u001b[0m\u001b[0;34m,\u001b[0m\u001b[0;36m1\u001b[0m\u001b[0;34m)\u001b[0m \u001b[0;32mfor\u001b[0m \u001b[0mi\u001b[0m \u001b[0;32min\u001b[0m \u001b[0mrange\u001b[0m\u001b[0;34m(\u001b[0m\u001b[0mgenerate_length\u001b[0m\u001b[0;34m)\u001b[0m\u001b[0;34m]\u001b[0m\u001b[0;34m\u001b[0m\u001b[0;34m\u001b[0m\u001b[0m\n\u001b[0m\u001b[1;32m     32\u001b[0m \u001b[0;34m\u001b[0m\u001b[0m\n\u001b[1;32m     33\u001b[0m \u001b[0mdict\u001b[0m \u001b[0;34m=\u001b[0m \u001b[0;34m{\u001b[0m\u001b[0;34m'index'\u001b[0m\u001b[0;34m:\u001b[0m \u001b[0maa_index\u001b[0m\u001b[0;34m,\u001b[0m \u001b[0;34m'origin_aa'\u001b[0m\u001b[0;34m:\u001b[0m \u001b[0morigin_aa\u001b[0m\u001b[0;34m,\u001b[0m\u001b[0;34m'sub_aa'\u001b[0m\u001b[0;34m:\u001b[0m \u001b[0msub_aa\u001b[0m\u001b[0;34m,\u001b[0m \u001b[0;34m'wild_type'\u001b[0m\u001b[0;34m:\u001b[0m \u001b[0mwild_type_seq\u001b[0m\u001b[0;34m,\u001b[0m\u001b[0;34m'mutant'\u001b[0m\u001b[0;34m:\u001b[0m\u001b[0mmutant_type_seq\u001b[0m\u001b[0;34m,\u001b[0m \u001b[0;34m'label'\u001b[0m\u001b[0;34m:\u001b[0m\u001b[0mlabel\u001b[0m\u001b[0;34m}\u001b[0m\u001b[0;34m\u001b[0m\u001b[0;34m\u001b[0m\u001b[0m\n",
      "\u001b[0;32m/tmp/ipykernel_4576/2460066529.py\u001b[0m in \u001b[0;36m<listcomp>\u001b[0;34m(.0)\u001b[0m\n\u001b[1;32m     29\u001b[0m     \u001b[0msub_aa\u001b[0m\u001b[0;34m.\u001b[0m\u001b[0mappend\u001b[0m\u001b[0;34m(\u001b[0m\u001b[0mreplace\u001b[0m\u001b[0;34m)\u001b[0m\u001b[0;34m\u001b[0m\u001b[0;34m\u001b[0m\u001b[0m\n\u001b[1;32m     30\u001b[0m     \u001b[0morigin_aa\u001b[0m\u001b[0;34m.\u001b[0m\u001b[0mappend\u001b[0m\u001b[0;34m(\u001b[0m\u001b[0morigin\u001b[0m\u001b[0;34m)\u001b[0m\u001b[0;34m\u001b[0m\u001b[0;34m\u001b[0m\u001b[0m\n\u001b[0;32m---> 31\u001b[0;31m     \u001b[0mlabel\u001b[0m \u001b[0;34m=\u001b[0m \u001b[0;34m[\u001b[0m\u001b[0mrandom\u001b[0m\u001b[0;34m.\u001b[0m\u001b[0mrandint\u001b[0m\u001b[0;34m(\u001b[0m\u001b[0;36m0\u001b[0m\u001b[0;34m,\u001b[0m\u001b[0;36m1\u001b[0m\u001b[0;34m)\u001b[0m \u001b[0;32mfor\u001b[0m \u001b[0mi\u001b[0m \u001b[0;32min\u001b[0m \u001b[0mrange\u001b[0m\u001b[0;34m(\u001b[0m\u001b[0mgenerate_length\u001b[0m\u001b[0;34m)\u001b[0m\u001b[0;34m]\u001b[0m\u001b[0;34m\u001b[0m\u001b[0;34m\u001b[0m\u001b[0m\n\u001b[0m\u001b[1;32m     32\u001b[0m \u001b[0;34m\u001b[0m\u001b[0m\n\u001b[1;32m     33\u001b[0m \u001b[0mdict\u001b[0m \u001b[0;34m=\u001b[0m \u001b[0;34m{\u001b[0m\u001b[0;34m'index'\u001b[0m\u001b[0;34m:\u001b[0m \u001b[0maa_index\u001b[0m\u001b[0;34m,\u001b[0m \u001b[0;34m'origin_aa'\u001b[0m\u001b[0;34m:\u001b[0m \u001b[0morigin_aa\u001b[0m\u001b[0;34m,\u001b[0m\u001b[0;34m'sub_aa'\u001b[0m\u001b[0;34m:\u001b[0m \u001b[0msub_aa\u001b[0m\u001b[0;34m,\u001b[0m \u001b[0;34m'wild_type'\u001b[0m\u001b[0;34m:\u001b[0m \u001b[0mwild_type_seq\u001b[0m\u001b[0;34m,\u001b[0m\u001b[0;34m'mutant'\u001b[0m\u001b[0;34m:\u001b[0m\u001b[0mmutant_type_seq\u001b[0m\u001b[0;34m,\u001b[0m \u001b[0;34m'label'\u001b[0m\u001b[0;34m:\u001b[0m\u001b[0mlabel\u001b[0m\u001b[0;34m}\u001b[0m\u001b[0;34m\u001b[0m\u001b[0;34m\u001b[0m\u001b[0m\n",
      "\u001b[0;31mKeyboardInterrupt\u001b[0m: "
     ]
    }
   ],
   "source": [
    "wild_type_seq = []\n",
    "mutant_type_seq = []\n",
    "aa_index = []\n",
    "sub_aa = []\n",
    "origin_aa=[]\n",
    "label = []\n",
    "generate_length = 15000\n",
    "random.seed(55)\n",
    "\n",
    "alphabet = 'ABCDEFGHIJKLMNOPQRSTUVWXYZ'\n",
    "alphabet = [char for char in alphabet]\n",
    "alphabet_for_mutant = 'ACDEFGHIJKLMNPQRSTVWXY'\n",
    "alphabet_for_mutant = [char for char in alphabet_for_mutant]\n",
    "\n",
    "for length in range(generate_length):\n",
    "    str_list=[random.choice(alphabet) for i in range(random.randint(200,380))]\n",
    "    random_str = \"\".join(str_list)\n",
    "    random_str = re.sub(r\"[UZOB]\", \"X\", random_str)\n",
    "    wild_type_seq.append(random_str)\n",
    "\n",
    "    sequence =[char for char in random_str]\n",
    "    index = random.choice(range(len(sequence)))\n",
    "    replace = random.choice(alphabet_for_mutant)\n",
    "    origin = sequence[index-1]\n",
    "    sequence[index-1] = replace\n",
    "    mutant_seq = ''.join(sequence)\n",
    "    mutant_type_seq.append(mutant_seq)\n",
    "    aa_index.append(index)\n",
    "    sub_aa.append(replace)\n",
    "    origin_aa.append(origin)\n",
    "    label = [random.randint(0,1) for i in range(generate_length)]\n",
    "\n",
    "dict = {'index': aa_index, 'origin_aa': origin_aa,'sub_aa': sub_aa, 'wild_type': wild_type_seq,'mutant':mutant_type_seq, 'label':label}\n",
    "protein_seq = pd.DataFrame(dict)\n"
   ]
  },
  {
   "cell_type": "code",
   "execution_count": null,
   "id": "453eb5d0-d691-4bd9-8502-1cef76457ea8",
   "metadata": {
    "jupyter": {
     "source_hidden": true
    },
    "tags": []
   },
   "outputs": [],
   "source": [
    "protein_seq.to_csv('practise_seq.csv', index = False)"
   ]
  },
  {
   "cell_type": "code",
   "execution_count": null,
   "id": "3d157a1b-765f-4861-a179-6a4c2c26bfd9",
   "metadata": {
    "jupyter": {
     "source_hidden": true
    },
    "tags": []
   },
   "outputs": [],
   "source": [
    "len(protein_seq['wild_type'][0].replace(\" \",''))"
   ]
  },
  {
   "cell_type": "code",
   "execution_count": 46,
   "id": "565fa6be-aab8-41f2-94c2-60a13fadd8e8",
   "metadata": {},
   "outputs": [
    {
     "data": {
      "text/plain": [
       "(5000, 6)"
      ]
     },
     "execution_count": 46,
     "metadata": {},
     "output_type": "execute_result"
    }
   ],
   "source": [
    "protein_seq.shape"
   ]
  },
  {
   "cell_type": "code",
   "execution_count": 45,
   "id": "f944024c-a1a3-4071-869c-af121d0a8fad",
   "metadata": {},
   "outputs": [],
   "source": [
    "protein_seq = protein_seq[:5000]"
   ]
  },
  {
   "cell_type": "code",
   "execution_count": 42,
   "id": "452588a3-9643-477a-9f82-5b00a510c8ac",
   "metadata": {},
   "outputs": [],
   "source": [
    "protein_seq.drop(labels=4274, inplace = True)"
   ]
  },
  {
   "cell_type": "code",
   "execution_count": 41,
   "id": "e94e0a51-090e-4e07-a2ea-c7aca0daebc5",
   "metadata": {},
   "outputs": [
    {
     "data": {
      "text/plain": [
       "index                                                       66\n",
       "origin_aa                                                    D\n",
       "sub_aa                                                       H\n",
       "wild_type    H K M X X M S X F I M J D X E P Y T K L X X Y ...\n",
       "mutant       H K M X X M S X F I M J D X E P Y T K L X X Y ...\n",
       "label                                                        0\n",
       "Name: 4275, dtype: object"
      ]
     },
     "execution_count": 41,
     "metadata": {},
     "output_type": "execute_result"
    }
   ],
   "source": [
    "protein_seq.iloc[4274]"
   ]
  },
  {
   "cell_type": "code",
   "execution_count": 30,
   "id": "03d8861c-59a5-4a92-89fb-0f0129b0fc87",
   "metadata": {},
   "outputs": [
    {
     "data": {
      "text/plain": [
       "'F J S I D Q Q L C Y D Q G X J Q X X X I J X N K N N H W Y F S K K H X I Q X L X Q W A S J M P G P K P T V X X E A X X X K I X X T D A A X W P M K T A R W L D X Q X V H Q D P X X N X X Q K X X M D I V W X M L S I W R X X X X C W X E W E V K D S X R D X X P Y X T K H L G X L W H C J F L K X E X A X X A V Q R A X W R D X K E L F D N G J J A C T S D I Y K P H A Q C S X R H J M A K X C L X X Q X X N Q N G A X R I K E I X C X J M K X X X W G J X E N G E H K I K X F J H S J E F X E V X E D D V J S V X H C T X L F H V E G R X Q M D N N M V R V A M G R X W L Y T M F T T F P M D C H J J A S C E X Q X D D Y I J E S M V L R I E F C X P G N X P X X G N T E M X X J P X G W V H'"
      ]
     },
     "execution_count": 30,
     "metadata": {},
     "output_type": "execute_result"
    }
   ],
   "source": [
    "protein_seq['wild_type'][1242]"
   ]
  },
  {
   "cell_type": "code",
   "execution_count": 6,
   "id": "0f9233d8-d97a-4d4a-b934-f322418d3f2d",
   "metadata": {},
   "outputs": [],
   "source": [
    "wild_seq = protein_seq['wild_type']\n",
    "mutant_seq = protein_seq['mutant']"
   ]
  },
  {
   "cell_type": "code",
   "execution_count": 7,
   "id": "c28bed90-6825-47a3-ab02-538d648b17b1",
   "metadata": {},
   "outputs": [
    {
     "name": "stdout",
     "output_type": "stream",
     "text": [
      "There are 1 GPU(s) available.\n",
      "Device name: NVIDIA RTX A5000\n"
     ]
    }
   ],
   "source": [
    "# config\n",
    "max_seq_len = 380\n",
    "batch_size = 16\n",
    "\n",
    "# # CUDA\n",
    "# USE_CUDA = torch.cuda.is_available()\n",
    "\n",
    "# # MPS:\n",
    "# USE_MPS = torch.has_mps\n",
    "\n",
    "# if USE_MPS:\n",
    "#     torch.cuda.manual_seed(2020)\n",
    "#     device = torch.device('mps')\n",
    "#     print('Device name: MPS')\n",
    "# else:\n",
    "#     print('No GPU available, using the CPU instead.')\n",
    "#     device = torch.device(\"cpu\")\n",
    "\n",
    "if torch.cuda.is_available():       \n",
    "    device = torch.device(\"cuda\")\n",
    "    print(f'There are {torch.cuda.device_count()} GPU(s) available.')\n",
    "    print('Device name:', torch.cuda.get_device_name(0))\n",
    "\n",
    "else:\n",
    "    print('No GPU available, using the CPU instead.')\n",
    "    device = torch.device(\"cpu\")"
   ]
  },
  {
   "cell_type": "code",
   "execution_count": null,
   "id": "ebc21fc7-0e7f-4321-b2ba-12f723f67e2e",
   "metadata": {},
   "outputs": [],
   "source": []
  },
  {
   "cell_type": "code",
   "execution_count": 47,
   "id": "472f3eae-1e59-43ee-9848-7e1c7fa00f60",
   "metadata": {},
   "outputs": [],
   "source": [
    "import pickle\n",
    "def get_embedding(protein_seq):\n",
    "    \n",
    "    xs = []\n",
    "    result = None\n",
    "    \n",
    "    for index, seq in protein_seq.iterrows():\n",
    "        s_len = len(seq['wild_type'].replace(\" \",'')) + 1\n",
    "        aa_index = seq['index']\n",
    "        label = seq['label']\n",
    "        wt_aa = seq['origin_aa']\n",
    "        mt_aa = seq['sub_aa']\n",
    "        # add_special_tokens adds extra token at the end of each sequence\n",
    "        token_encoding = tokenizer.batch_encode_plus([seq['wild_type'], seq['mutant']], add_special_tokens=True, padding=\"longest\")\n",
    "        input_ids      = torch.tensor(token_encoding['input_ids']).to(device)\n",
    "        attention_mask = torch.tensor(token_encoding['attention_mask']).to(device)\n",
    "\n",
    "        with torch.no_grad():\n",
    "            # returns: ( batch-size x max_seq_len_in_minibatch x embedding_dim )\n",
    "            embedding_repr = model(input_ids, attention_mask=attention_mask)\n",
    "            emb = embedding_repr.last_hidden_state[:, :s_len]\n",
    "            try:\n",
    "                emb = emb[:, aa_index, :]\n",
    "            except:\n",
    "                print ('Error happends in No. {}, aa_index: {}, sequence length: {}'.format(index, aa_index, s_len))\n",
    "            # print(aa_index)\n",
    "            x = emb.detach().cpu().numpy().squeeze()\n",
    "            temp = pd.DataFrame({'label':label,'mutant_index': aa_index,'wt_aa': wt_aa, 't_aa': mt_aa, 'wt_emb': [x[0, :]], 'mt_emb':[x[1,:]]})\n",
    "            if result is None:\n",
    "                result=temp\n",
    "            else:\n",
    "                result = pd.concat([result,temp])\n",
    "\n",
    "            xs.append({'x':x.reshape(1,-1), 'label':label})\n",
    "            \n",
    "    result.to_csv('test_seq.csv', index = None)\n",
    "    with open('emb.pkl', 'wb') as f:\n",
    "        pickle.dump(xs,f)\n",
    "\n",
    "        \n",
    "get_embedding(protein_seq)  \n"
   ]
  },
  {
   "cell_type": "code",
   "execution_count": 48,
   "id": "64108c2e-c74d-4531-aba9-0c3954c88351",
   "metadata": {},
   "outputs": [],
   "source": [
    "# read residue_embeddings\n",
    "with open('emb.pkl', 'rb') as file:\n",
    "    y = pickle.load(file)"
   ]
  },
  {
   "cell_type": "code",
   "execution_count": 49,
   "id": "aed33fbb-908a-4fa9-8855-e0e79036eb33",
   "metadata": {},
   "outputs": [],
   "source": [
    "data_y = []\n",
    "data_X = []\n",
    "for i in range(len(y)):\n",
    "    data_X.append(y[i]['x'][0])\n",
    "    data_y.append(y[i]['label'])"
   ]
  },
  {
   "cell_type": "code",
   "execution_count": 52,
   "id": "60825d6e-c5de-4642-b5b0-b978f3b83a77",
   "metadata": {},
   "outputs": [
    {
     "data": {
      "text/plain": [
       "(5000, 2048)"
      ]
     },
     "execution_count": 52,
     "metadata": {},
     "output_type": "execute_result"
    }
   ],
   "source": [
    "# turn residue_enbeddings (tensors) into numpy array\n",
    "data_X = np.array(data_X)\n",
    "data_X.shape"
   ]
  },
  {
   "cell_type": "code",
   "execution_count": null,
   "id": "09a7db5b-9bbc-4311-9525-5eeeb406256f",
   "metadata": {},
   "outputs": [],
   "source": []
  },
  {
   "cell_type": "code",
   "execution_count": 56,
   "id": "ca308e91-033b-4937-834b-20818fad4635",
   "metadata": {},
   "outputs": [
    {
     "data": {
      "text/plain": [
       "(4000, 300, 4000, 300, 700, 700)"
      ]
     },
     "execution_count": 56,
     "metadata": {},
     "output_type": "execute_result"
    }
   ],
   "source": [
    "# 切分数据集\n",
    "X_train, X_test, y_train, y_test= train_test_split(data_X, data_y,\n",
    "                                                    test_size=0.2,\n",
    "                                                    stratify=data_y,\n",
    "                                                   random_state=42)\n",
    "# 切分出valid数据集\n",
    "X_valid, X_test, y_valid, y_test = train_test_split(X_test,y_test,\n",
    "                                               test_size=0.3,\n",
    "                                               shuffle=True,\n",
    "                                               stratify=y_test,\n",
    "                                               random_state=2020)\n",
    "len(X_train), len(X_test),len(y_train),len(y_test), len(X_valid),len(y_valid)"
   ]
  },
  {
   "cell_type": "code",
   "execution_count": 60,
   "id": "0a6113ad-b6fb-4b59-baf2-2f14e3cc5ae2",
   "metadata": {},
   "outputs": [
    {
     "name": "stderr",
     "output_type": "stream",
     "text": [
      "/root/miniconda3/lib/python3.8/site-packages/sklearn/linear_model/_stochastic_gradient.py:705: ConvergenceWarning: Maximum number of iteration reached before convergence. Consider increasing max_iter to improve the fit.\n",
      "  warnings.warn(\n",
      "/root/miniconda3/lib/python3.8/site-packages/sklearn/linear_model/_stochastic_gradient.py:705: ConvergenceWarning: Maximum number of iteration reached before convergence. Consider increasing max_iter to improve the fit.\n",
      "  warnings.warn(\n",
      "/root/miniconda3/lib/python3.8/site-packages/sklearn/linear_model/_stochastic_gradient.py:705: ConvergenceWarning: Maximum number of iteration reached before convergence. Consider increasing max_iter to improve the fit.\n",
      "  warnings.warn(\n",
      "/root/miniconda3/lib/python3.8/site-packages/sklearn/linear_model/_stochastic_gradient.py:705: ConvergenceWarning: Maximum number of iteration reached before convergence. Consider increasing max_iter to improve the fit.\n",
      "  warnings.warn(\n",
      "/root/miniconda3/lib/python3.8/site-packages/sklearn/linear_model/_stochastic_gradient.py:705: ConvergenceWarning: Maximum number of iteration reached before convergence. Consider increasing max_iter to improve the fit.\n",
      "  warnings.warn(\n"
     ]
    },
    {
     "data": {
      "text/plain": [
       "array([0.50375, 0.5225 , 0.5225 , 0.48875, 0.52   ])"
      ]
     },
     "execution_count": 60,
     "metadata": {},
     "output_type": "execute_result"
    }
   ],
   "source": [
    "from sklearn.linear_model import SGDClassifier\n",
    "from sklearn.model_selection import cross_val_score\n",
    "sgd = SGDClassifier(loss=\"hinge\", penalty=\"l1\", max_iter=8)\n",
    "cross_val_score(sgd, X_train, y_train, cv=5)"
   ]
  },
  {
   "cell_type": "code",
   "execution_count": 57,
   "id": "d10d9120-fafa-4612-b12e-aea2e44fbb80",
   "metadata": {},
   "outputs": [
    {
     "ename": "ModuleNotFoundError",
     "evalue": "No module named 'xgboost'",
     "output_type": "error",
     "traceback": [
      "\u001b[0;31m---------------------------------------------------------------------------\u001b[0m",
      "\u001b[0;31mModuleNotFoundError\u001b[0m                       Traceback (most recent call last)",
      "\u001b[0;32m/tmp/ipykernel_4576/2581278691.py\u001b[0m in \u001b[0;36m<module>\u001b[0;34m\u001b[0m\n\u001b[0;32m----> 1\u001b[0;31m \u001b[0;32mfrom\u001b[0m \u001b[0mxgboost\u001b[0m \u001b[0;32mimport\u001b[0m \u001b[0mXGBClassifier\u001b[0m\u001b[0;34m\u001b[0m\u001b[0;34m\u001b[0m\u001b[0m\n\u001b[0m\u001b[1;32m      2\u001b[0m \u001b[0;34m\u001b[0m\u001b[0m\n\u001b[1;32m      3\u001b[0m \u001b[0;31m# rf = RandomForestClassifier(max_depth=19,random_state = 2)\u001b[0m\u001b[0;34m\u001b[0m\u001b[0;34m\u001b[0m\u001b[0;34m\u001b[0m\u001b[0m\n\u001b[1;32m      4\u001b[0m \u001b[0;31m# rf.fit(X_train, y_train)\u001b[0m\u001b[0;34m\u001b[0m\u001b[0;34m\u001b[0m\u001b[0;34m\u001b[0m\u001b[0m\n\u001b[1;32m      5\u001b[0m \u001b[0;31m# score=cross_val_score(rf,X_test,y_test,cv=5,scoring='f1')\u001b[0m\u001b[0;34m\u001b[0m\u001b[0;34m\u001b[0m\u001b[0;34m\u001b[0m\u001b[0m\n",
      "\u001b[0;31mModuleNotFoundError\u001b[0m: No module named 'xgboost'"
     ]
    }
   ],
   "source": [
    "from xgboost import XGBClassifier\n",
    "\n",
    "# rf = RandomForestClassifier(max_depth=19,random_state = 2)\n",
    "# rf.fit(X_train, y_train)\n",
    "# score=cross_val_score(rf,X_test,y_test,cv=5,scoring='f1')\n",
    "# print(score)\n",
    "\n",
    "eval_s = [(X_train, y_train), (X_test, y_test)]\n",
    "\n",
    "xgb = XGBClassifier()\n",
    "xgb.fit(X_train, y_train, early_stopping_rounds=10, eval_set=eval_s, verbose=False)\n",
    "xgb.score(X_test, y_test)"
   ]
  },
  {
   "cell_type": "code",
   "execution_count": 58,
   "id": "8258d907-4d71-4b32-8b3c-68bb42958f9f",
   "metadata": {},
   "outputs": [
    {
     "name": "stdout",
     "output_type": "stream",
     "text": [
      "Looking in indexes: http://mirrors.aliyun.com/pypi/simple\n",
      "Collecting xgboost\n",
      "  Downloading http://mirrors.aliyun.com/pypi/packages/e4/ed/8e2a7ae4e856f4887afc0beee897088ed8dbbc1b19b0f49971019939452a/xgboost-1.6.1-py3-none-manylinux2014_x86_64.whl (192.9 MB)\n",
      "\u001b[K     |▊                               | 4.6 MB 59 kB/s eta 0:52:43^C\n",
      "\n",
      "\u001b[31mERROR: Operation cancelled by user\u001b[0m\n",
      "\u001b[?25h"
     ]
    }
   ],
   "source": [
    "!pip install xgboost"
   ]
  },
  {
   "cell_type": "code",
   "execution_count": null,
   "id": "c7b825aa-2201-4039-94b6-6bcb801cd796",
   "metadata": {},
   "outputs": [],
   "source": []
  },
  {
   "cell_type": "code",
   "execution_count": null,
   "id": "a6cfd305-3d40-453e-bedf-9f1d1794f872",
   "metadata": {},
   "outputs": [],
   "source": []
  },
  {
   "cell_type": "code",
   "execution_count": null,
   "id": "8485361b-c825-43f7-aaae-24525d9673c1",
   "metadata": {},
   "outputs": [],
   "source": []
  },
  {
   "cell_type": "code",
   "execution_count": null,
   "id": "6feb72d7-039a-44c5-aedc-8c9c5b6bdbf6",
   "metadata": {},
   "outputs": [],
   "source": [
    "for step, (sent_id, mask, labels) in enumerate(train_dataloader):\n",
    "    \n",
    "    # progress update after every 50 batches.\n",
    "    # if step % 50 == 0 and not step == 0:\n",
    "      # print('  Batch {:>5,}  of  {:>5,}.'.format(step, len(train_dataloader)))\n",
    "\n",
    "    # push the (sent_id, mask, labels) to gpu\n",
    "    sent_id, mask, labels = sent_id.to(device), mask.to(device), labels.to(device)\n",
    "    # bert = bert.to(device)\n",
    "    # print(sent_id)\n",
    "    x=model_bert(sent_id[0:1,:],mask[0:1,:])\n",
    "    print(x)\n",
    "    break"
   ]
  },
  {
   "cell_type": "code",
   "execution_count": null,
   "id": "9b1ab8c3-4faf-4d57-a2c3-dfac8aada940",
   "metadata": {},
   "outputs": [],
   "source": [
    "# print(model)"
   ]
  },
  {
   "cell_type": "markdown",
   "id": "fd1dd22a-7867-4837-9fc6-d1d56d960760",
   "metadata": {},
   "source": [
    "## 练习测试代码"
   ]
  },
  {
   "cell_type": "code",
   "execution_count": null,
   "id": "983b5a55-4d77-4601-abdc-34424c0507fd",
   "metadata": {
    "jupyter": {
     "source_hidden": true
    },
    "tags": []
   },
   "outputs": [],
   "source": [
    "# # Dataprocessing \n",
    "# protein_df.drop(labels=['PDBID','Unnamed: 3','CHAIN'], axis=1, inplace = True)\n",
    "# protein_df['label'] = [random.randint(0,1) for i in range(39)]\n",
    "\n",
    "# # 随机生成蛋白序列\n",
    "# seq = []\n",
    "# alphabet = 'ABCDEFGHIJKLMNOPQRSTUVWXYZ'\n",
    "# alphabet = [char for char in alphabet]\n",
    "\n",
    "# generate_length = 14961\n",
    "\n",
    "# for length in range(generate_length):\n",
    "#     str_list=[random.choice(alphabet) for i in range(random.randint(200,380))]\n",
    "#     random_str=\"\".join(str_list)\n",
    "#     seq.append(random_str)\n",
    "\n",
    "# # 随机生成label\n",
    "# label = [random.randint(0,1) for i in range(generate_length)]\n",
    "\n",
    "# # 新生成的seq 和label 放入新创建的dataframe\n",
    "# psudo_seq = pd.DataFrame({'sequence': seq, 'label':label})\n",
    "\n",
    "# # 把新生成的dataframe 和以前的拼一起\n",
    "# raw_seq = protein_df.append(psudo_seq)\n",
    "\n",
    "# # settle sequences\n",
    "# seq_batch = [seq for seq in raw_seq.sequence]\n",
    "# seq_batch = [seq.replace(\" \", '') for seq in raw_seq.sequence]\n",
    "# # seq_batch = [' '.join(seq) for seq in seq_batch]\n",
    "# # seq_batch = [re.sub(r\"[UZOB]\", \"X\", sequence) for sequence in seq_batch]\n",
    "\n",
    "# # 清洗完后放入dataframe\n",
    "# protein_seq = pd.DataFrame({'sequence': seq_batch, 'label':raw_seq.label}, index=None).reset_index()\n",
    "\n",
    "# # 随机选择生成"
   ]
  },
  {
   "cell_type": "code",
   "execution_count": null,
   "id": "e4f6ada1-7203-4ea8-8724-9df98413fe77",
   "metadata": {
    "jupyter": {
     "source_hidden": true
    },
    "tags": []
   },
   "outputs": [],
   "source": [
    "# # 随机选择生成 mutation， 记录mutant index， mutant aa 和mutant_sequence\n",
    "# def mutation(seq):\n",
    "    \n",
    "#     sequence =[char for char in seq]\n",
    "#     index = random.choice(range(len(sequence)))\n",
    "#     replace = random.choice(alphabet)\n",
    "#     sequence[index] = replace\n",
    "#     mutant_seq = ''.join(sequence)\n",
    "\n",
    "#     return index, replace, mutant_seq\n",
    "\n",
    "# # 把生成的mutation 放入dataframe\n",
    "# # for i in range(protein_seq.shape[0]):\n",
    "# #     protein_seq['index'], protein_seq['sub_aa'], protein_seq['mutant'] = protein_seq['sequence'].apply(mutation)[i]\n",
    "\n",
    "# # # 把生成的dataframe 输出成csv\n",
    "# # protein_seq.to_csv('wild_type_mutant_sequence.csv')"
   ]
  },
  {
   "cell_type": "code",
   "execution_count": null,
   "id": "b6aa4bba-84a7-459b-bf5b-a3b5035f8a84",
   "metadata": {
    "jupyter": {
     "source_hidden": true
    },
    "tags": []
   },
   "outputs": [],
   "source": [
    "# for i in range(test_df.shape[0]):\n",
    "#     test_df['index'], test_df['sub_aa'], test_df['mutant'] = test_df['sequence'].apply(mutation)[i]"
   ]
  }
 ],
 "metadata": {
  "kernelspec": {
   "display_name": "Python 3 (ipykernel)",
   "language": "python",
   "name": "python3"
  },
  "language_info": {
   "codemirror_mode": {
    "name": "ipython",
    "version": 3
   },
   "file_extension": ".py",
   "mimetype": "text/x-python",
   "name": "python",
   "nbconvert_exporter": "python",
   "pygments_lexer": "ipython3",
   "version": "3.9.13"
  }
 },
 "nbformat": 4,
 "nbformat_minor": 5
}
